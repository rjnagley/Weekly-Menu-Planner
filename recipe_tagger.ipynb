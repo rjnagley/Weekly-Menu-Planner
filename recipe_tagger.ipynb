{
 "cells": [
  {
   "cell_type": "markdown",
   "metadata": {},
   "source": [
    "## Load Required Packages"
   ]
  },
  {
   "cell_type": "code",
   "execution_count": 29,
   "metadata": {},
   "outputs": [],
   "source": [
    "from bs4 import BeautifulSoup\n",
    "import requests\n",
    "import re\n",
    "import string\n",
    "import nltk\n",
    "from nltk.stem.wordnet import WordNetLemmatizer\n",
    "import pandas as pd"
   ]
  },
  {
   "cell_type": "markdown",
   "metadata": {},
   "source": [
    "### Extract Keywords and Cook Time from Recipe Webpages"
   ]
  },
  {
   "cell_type": "markdown",
   "metadata": {},
   "source": [
    "### define functions for text cleaning"
   ]
  },
  {
   "cell_type": "code",
   "execution_count": 30,
   "metadata": {},
   "outputs": [],
   "source": [
    "def remove_stop_words(s):\n",
    "    stop_words = {'tag','cat','type', 'recipe', 'meal', 'post',\n",
    "                  'breakfast','lunch','dinner','dessert', \n",
    "                  'for','idea','best'}\n",
    "    for w in stop_words:\n",
    "        pattern = r'\\b'+w+r'\\b'\n",
    "        s = re.sub(pattern, '', s)\n",
    "    return s\n",
    "\n",
    "def lemmatize(s):\n",
    "    s = s.split(' ')\n",
    "    lemmatizer = WordNetLemmatizer()\n",
    "    s = [lemmatizer.lemmatize(w) for w in s]\n",
    "    s = ' '.join(s)\n",
    "    return s"
   ]
  },
  {
   "cell_type": "markdown",
   "metadata": {},
   "source": [
    "### define function to extract and clean keywords and time"
   ]
  },
  {
   "cell_type": "code",
   "execution_count": 31,
   "metadata": {},
   "outputs": [],
   "source": [
    "def get_recipe_keywords_time(url):\n",
    "    # Make a GET request to fetch the raw HTML content\n",
    "    html_content = requests.get(url).text\n",
    "    # Parse the html content\n",
    "    soup = BeautifulSoup(html_content, \"lxml\")\n",
    "    time = 'none'\n",
    "    if any(x in url for x in ('delish', 'countryliving', 'goodhousekeeping')):\n",
    "        try:\n",
    "            keywords = str(soup.find(\"meta\", attrs={\"name\": \"keywords\"})).split('\"')[1]\n",
    "        except IndexError:\n",
    "            keywords = \"none\"\n",
    "        time = str(soup.find(\"span\", attrs={\"class\": \"total-time-amount\"}))\n",
    "    elif any(x in url for x in ('cookinglight','myrecipes')):\n",
    "        try:\n",
    "            keywords = str(soup.find(\"meta\", attrs={\"name\": \"keywords\"})).split('\"')[1]\n",
    "        except IndexError:\n",
    "            keywords = \"none\"\n",
    "        time = str(soup.find_all('div', {'class' :'recipe-meta-item'}))\n",
    "    elif 'damn' in url:\n",
    "        keywords = str(soup.find(\"meta\", attrs={\"name\":\"shareaholic:keywords\"})).split('\"')[1]\n",
    "        time = str(soup.find_all('div',{'class':\"post-meta time\"}))\n",
    "    \n",
    "    keywords = re.split(',|/', keywords) \n",
    "    keywords = [re.sub(r'[^A-Za-z0-9]+',r\" \", text) for text in keywords]\n",
    "    keywords = [text.lower() for text in keywords]\n",
    "    keywords = [lemmatize(w) for w in keywords]\n",
    "    keywords = [remove_stop_words(w) for w in keywords]\n",
    "    keywords = [text.strip() for text in keywords]\n",
    "    keywords = [re.sub(' +', ' ',text) for text in keywords]\n",
    "    keywords = list(dict.fromkeys(keywords))\n",
    "    keywords = [i for i in keywords if i]\n",
    "    keywords = ', '.join(keywords)\n",
    "    \n",
    "    time = time.replace(\"\\n\", \"\")\n",
    "    time = re.sub('<[^>]+>', ' ', time)\n",
    "    time = re.sub(' +', ' ',time)\n",
    "    time = time.strip('[]')\n",
    "    time = time.strip()\n",
    "    \n",
    "    return [keywords, time]"
   ]
  },
  {
   "cell_type": "markdown",
   "metadata": {},
   "source": [
    "### use function on a sample dataset"
   ]
  },
  {
   "cell_type": "code",
   "execution_count": 32,
   "metadata": {},
   "outputs": [],
   "source": [
    "recipes = pd.read_csv(r\"Documents/cooking project/recipes.csv\")"
   ]
  },
  {
   "cell_type": "code",
   "execution_count": 33,
   "metadata": {},
   "outputs": [],
   "source": [
    "recipes_sample = recipes[['link','meal']]"
   ]
  },
  {
   "cell_type": "code",
   "execution_count": 35,
   "metadata": {},
   "outputs": [],
   "source": [
    "fn = lambda x: get_recipe_keywords_time(x['link'])\n",
    "cols = recipes_sample.apply(fn, axis=1)\n",
    "cols_df = pd.DataFrame(cols.tolist())\n",
    "recipes_sample = recipes_sample.assign(keywords= cols_df[0].values,\n",
    "                                      time=cols_df[1].values)"
   ]
  },
  {
   "cell_type": "code",
   "execution_count": 36,
   "metadata": {},
   "outputs": [],
   "source": [
    "recipes_sample.to_csv(\"Documents/cooking project/recipes_updated2.csv\")"
   ]
  },
  {
   "cell_type": "code",
   "execution_count": null,
   "metadata": {},
   "outputs": [],
   "source": []
  }
 ],
 "metadata": {
  "kernelspec": {
   "display_name": "Python 3",
   "language": "python",
   "name": "python3"
  },
  "language_info": {
   "codemirror_mode": {
    "name": "ipython",
    "version": 3
   },
   "file_extension": ".py",
   "mimetype": "text/x-python",
   "name": "python",
   "nbconvert_exporter": "python",
   "pygments_lexer": "ipython3",
   "version": "3.7.4"
  }
 },
 "nbformat": 4,
 "nbformat_minor": 2
}
